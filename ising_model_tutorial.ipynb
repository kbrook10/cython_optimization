{
 "cells": [
  {
   "cell_type": "markdown",
   "metadata": {},
   "source": [
    "## Demo walk along - with Jake Vanderplas (Ising Model)"
   ]
  },
  {
   "cell_type": "code",
   "execution_count": 1,
   "metadata": {
    "collapsed": true
   },
   "outputs": [],
   "source": [
    "### Def: Ising model, per wikipedia\n",
    "\n",
    "# The Ising model (/ˈaɪsɪŋ/; German: [ˈiːzɪŋ]), \n",
    "# named after the physicist Ernst Ising, is a \n",
    "# mathematical model of ferromagnetism in \n",
    "# statistical mechanics. \n",
    "\n",
    "#https://en.wikipedia.org/wiki/Ising_model"
   ]
  },
  {
   "cell_type": "code",
   "execution_count": 2,
   "metadata": {
    "collapsed": true
   },
   "outputs": [],
   "source": [
    "### Def: Cython \n",
    "\n",
    "# Cython gives you the combined power of \n",
    "# Python and C\n",
    "\n",
    "#http://cython.org"
   ]
  },
  {
   "cell_type": "markdown",
   "metadata": {},
   "source": [
    "### Agenda:\n",
    "* Code a simulated ising model\n",
    "* Use Cython to speed the code up"
   ]
  },
  {
   "cell_type": "markdown",
   "metadata": {},
   "source": [
    "### Part 1: Create image of pluses and minuses"
   ]
  },
  {
   "cell_type": "code",
   "execution_count": 3,
   "metadata": {
    "collapsed": true
   },
   "outputs": [],
   "source": [
    "### Import necessary libraries\n",
    "\n",
    "import numpy as np\n",
    "from PIL import Image\n",
    "from ipywidgets import interact"
   ]
  },
  {
   "cell_type": "code",
   "execution_count": 4,
   "metadata": {
    "collapsed": true
   },
   "outputs": [],
   "source": [
    "### Create function to generate random 1s and -1s\n",
    "\n",
    "# np.random.choice -> creates random values of -1 and 1 in our example\n",
    "# np.random.choice (size) -> this is the output shape, so N rows by M columns\n",
    "\n",
    "def random_spin_field(N, M):\n",
    "    return np.random.choice([-1,1], size=(N,M))"
   ]
  },
  {
   "cell_type": "code",
   "execution_count": 5,
   "metadata": {},
   "outputs": [
    {
     "data": {
      "text/plain": [
       "array([[-1, -1, -1,  1,  1, -1, -1,  1,  1, -1],\n",
       "       [ 1,  1, -1,  1, -1,  1, -1,  1, -1, -1],\n",
       "       [ 1, -1,  1,  1, -1,  1,  1,  1,  1,  1],\n",
       "       [ 1, -1,  1,  1, -1, -1,  1,  1, -1, -1],\n",
       "       [ 1,  1,  1, -1,  1,  1, -1,  1,  1, -1],\n",
       "       [ 1, -1,  1,  1, -1,  1,  1, -1, -1,  1],\n",
       "       [ 1,  1, -1, -1, -1, -1,  1,  1, -1,  1],\n",
       "       [-1, -1, -1,  1, -1,  1, -1, -1,  1,  1],\n",
       "       [-1,  1,  1, -1, -1, -1, -1, -1, -1,  1],\n",
       "       [-1, -1, -1, -1, -1, -1, -1,  1,  1, -1]])"
      ]
     },
     "execution_count": 5,
     "metadata": {},
     "output_type": "execute_result"
    }
   ],
   "source": [
    "### Generate a 20 x 20 grid of 1s and -1s\n",
    "\n",
    "random_spin_field(10,10)"
   ]
  },
  {
   "cell_type": "code",
   "execution_count": 6,
   "metadata": {
    "collapsed": true
   },
   "outputs": [],
   "source": [
    "### Create function to display array field\n",
    "\n",
    "# Image.fromarray() -> creates image from array\n",
    "# np.unit8(field +1) * 0.5 * 255 -> converts 1s and -1s \n",
    "# unit8 -> unsigned integer data type and varies from 0 to 255\n",
    "\n",
    "def display_spin_field(field):\n",
    "    return Image.fromarray(np.uint8((field + 1) * 0.5 * 255))\n"
   ]
  },
  {
   "cell_type": "code",
   "execution_count": 7,
   "metadata": {},
   "outputs": [
    {
     "data": {
      "image/png": "[encoded data removed]",
      "text/plain": [
       "<PIL.Image.Image image mode=L size=200x200 at 0x1057314E0>"
      ]
     },
     "execution_count": 7,
     "metadata": {},
     "output_type": "execute_result"
    }
   ],
   "source": [
    "### Display the array field\n",
    "\n",
    "display_spin_field(random_spin_field(200,200))"
   ]
  },
  {
   "cell_type": "markdown",
   "metadata": {},
   "source": [
    "### Part 2: Create the ising model"
   ]
  },
  {
   "cell_type": "code",
   "execution_count": 8,
   "metadata": {
    "collapsed": true
   },
   "outputs": [],
   "source": [
    "### Create function to generate ising model\n",
    "\n",
    "# This function allows us to update inplace\n",
    "# beta -> refers to the temperature\n",
    "\n",
    "def ising_step(field, beta=0.4):\n",
    "    N, M = field.shape\n",
    "    # Create offset to remove gradient look from left to right and top down\n",
    "    for n_offset in range(2):\n",
    "        for m_offset in range(2):\n",
    "            for n in range(n_offset, N, 2):\n",
    "                for m in range(m_offset, M, 2):\n",
    "                    _ising_update(field, n, m, beta)\n",
    "    return field\n",
    "\n",
    "# This function allows us to calculate the energies\n",
    "# \n",
    "def _ising_update(field, n, m, beta):\n",
    "    total = 0\n",
    "    N, M = field.shape\n",
    "    for i in range(n-1, n+2):\n",
    "        for j in range(m-1, m+2):\n",
    "            if i == n and j == m:\n",
    "                continue\n",
    "            total += field[i % N,j % M]\n",
    "    dE = 2 * field[n,m] * total\n",
    "    if dE <=0:\n",
    "        field[n,m] *= -1\n",
    "    elif np.exp(-dE * beta) > np.random.rand():\n",
    "        field[n,m] *= -1\n",
    "            "
   ]
  },
  {
   "cell_type": "code",
   "execution_count": 9,
   "metadata": {},
   "outputs": [
    {
     "data": {
      "image/png": "[encoded data removed]",
      "text/plain": [
       "<PIL.Image.Image image mode=L size=200x200 at 0x105731630>"
      ]
     },
     "execution_count": 9,
     "metadata": {},
     "output_type": "execute_result"
    }
   ],
   "source": [
    "### Display the ising step\n",
    "\n",
    "display_spin_field(ising_step(random_spin_field(200,200)))"
   ]
  },
  {
   "cell_type": "markdown",
   "metadata": {},
   "source": [
    "### Part 3: Animate to display more than one image at a time"
   ]
  },
  {
   "cell_type": "code",
   "execution_count": 10,
   "metadata": {
    "collapsed": true
   },
   "outputs": [],
   "source": [
    "#### Using Ipywidgets - create javascript widgets"
   ]
  },
  {
   "cell_type": "code",
   "execution_count": 11,
   "metadata": {
    "collapsed": true
   },
   "outputs": [],
   "source": [
    "### Create function to display sequenced images\n",
    "\n",
    "def display_ising_sequence(images):\n",
    "    def _show(frame=(0, len(images)-1)):\n",
    "        return display_spin_field(images[frame])\n",
    "    return interact(_show)"
   ]
  },
  {
   "cell_type": "code",
   "execution_count": 12,
   "metadata": {},
   "outputs": [
    {
     "data": {
      "application/vnd.jupyter.widget-view+json": {
       "model_id": "d4bdf56239344928970fd7b98c90f05d",
       "version_major": 2,
       "version_minor": 0
      },
      "text/plain": [
       "interactive(children=(IntSlider(value=25, description='frame', max=50), Output()), _dom_classes=('widget-inter…"
      ]
     },
     "metadata": {},
     "output_type": "display_data"
    },
    {
     "data": {
      "text/plain": [
       "<function __main__.display_ising_sequence.<locals>._show>"
      ]
     },
     "execution_count": 12,
     "metadata": {},
     "output_type": "execute_result"
    }
   ],
   "source": [
    "### Create image animation\n",
    "\n",
    "images = [random_spin_field(200,200)]\n",
    "for i in range(50):\n",
    "    images.append(ising_step(images[-1].copy()))\n",
    "display_ising_sequence(images)"
   ]
  },
  {
   "cell_type": "code",
   "execution_count": 14,
   "metadata": {
    "collapsed": true
   },
   "outputs": [],
   "source": [
    "### Note -\n",
    "\n",
    "# Had to use source code updates for my version of jupyter notebook\n",
    "\n",
    "## Update via terminal\n",
    "# pip install ipywidgets\n",
    "# jupyter nbextension enable --py --sys-prefix widgetsnbextension  # can be skipped for notebook version 5.3 and above\n",
    "\n",
    "# this allowed the widget to display\n"
   ]
  },
  {
   "cell_type": "code",
   "execution_count": null,
   "metadata": {
    "collapsed": true
   },
   "outputs": [],
   "source": []
  },
  {
   "cell_type": "code",
   "execution_count": null,
   "metadata": {
    "collapsed": true
   },
   "outputs": [],
   "source": []
  },
  {
   "cell_type": "code",
   "execution_count": null,
   "metadata": {
    "collapsed": true
   },
   "outputs": [],
   "source": []
  },
  {
   "cell_type": "code",
   "execution_count": null,
   "metadata": {
    "collapsed": true
   },
   "outputs": [],
   "source": []
  },
  {
   "cell_type": "code",
   "execution_count": null,
   "metadata": {
    "collapsed": true
   },
   "outputs": [],
   "source": []
  },
  {
   "cell_type": "code",
   "execution_count": null,
   "metadata": {
    "collapsed": true
   },
   "outputs": [],
   "source": []
  }
 ],
 "metadata": {
  "kernelspec": {
   "display_name": "Python 3",
   "language": "python",
   "name": "python3"
  },
  "language_info": {
   "codemirror_mode": {
    "name": "ipython",
    "version": 3
   },
   "file_extension": ".py",
   "mimetype": "text/x-python",
   "name": "python",
   "nbconvert_exporter": "python",
   "pygments_lexer": "ipython3",
   "version": "3.6.2"
  }
 },
 "nbformat": 4,
 "nbformat_minor": 2
}
