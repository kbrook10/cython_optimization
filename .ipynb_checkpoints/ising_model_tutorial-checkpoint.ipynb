{
 "cells": [
  {
   "cell_type": "markdown",
   "metadata": {},
   "source": [
    "## Demo walk along - with Jake Vanderplas (Ising Model)"
   ]
  },
  {
   "cell_type": "code",
   "execution_count": 1,
   "metadata": {
    "collapsed": true
   },
   "outputs": [],
   "source": [
    "### Def: Ising model, per wikipedia\n",
    "\n",
    "# The Ising model (/ˈaɪsɪŋ/; German: [ˈiːzɪŋ]), \n",
    "# named after the physicist Ernst Ising, is a \n",
    "# mathematical model of ferromagnetism in \n",
    "# statistical mechanics. \n",
    "\n",
    "#https://en.wikipedia.org/wiki/Ising_model"
   ]
  },
  {
   "cell_type": "code",
   "execution_count": 2,
   "metadata": {
    "collapsed": true
   },
   "outputs": [],
   "source": [
    "### Def: Cython \n",
    "\n",
    "# Cython gives you the combined power of \n",
    "# Python and C\n",
    "\n",
    "#http://cython.org"
   ]
  },
  {
   "cell_type": "markdown",
   "metadata": {},
   "source": [
    "### Agenda:\n",
    "* Code a simulated ising model\n",
    "* Use Cython to speed the code up"
   ]
  },
  {
   "cell_type": "markdown",
   "metadata": {},
   "source": [
    "### Part 1: Create image of pluses and minuses"
   ]
  },
  {
   "cell_type": "code",
   "execution_count": 3,
   "metadata": {
    "collapsed": true
   },
   "outputs": [],
   "source": [
    "### Import necessary libraries\n",
    "\n",
    "import numpy as np\n",
    "from PIL import Image\n",
    "from ipywidgets import interact"
   ]
  },
  {
   "cell_type": "code",
   "execution_count": 4,
   "metadata": {
    "collapsed": true
   },
   "outputs": [],
   "source": [
    "### Create function to generate random 1s and -1s\n",
    "\n",
    "# np.random.choice -> creates random values of -1 and 1 in our example\n",
    "# np.random.choice (size) -> this is the output shape, so N rows by M columns\n",
    "\n",
    "def random_spin_field(N, M):\n",
    "    return np.random.choice([-1,1], size=(N,M))"
   ]
  },
  {
   "cell_type": "code",
   "execution_count": 5,
   "metadata": {},
   "outputs": [
    {
     "data": {
      "text/plain": [
       "array([[ 1,  1,  1,  1,  1,  1, -1,  1,  1,  1],\n",
       "       [-1, -1,  1,  1, -1,  1, -1, -1,  1, -1],\n",
       "       [-1, -1,  1,  1,  1,  1,  1, -1, -1,  1],\n",
       "       [-1,  1,  1, -1, -1, -1,  1,  1,  1,  1],\n",
       "       [-1, -1, -1, -1,  1,  1, -1,  1,  1,  1],\n",
       "       [-1,  1,  1, -1, -1,  1, -1,  1, -1, -1],\n",
       "       [-1,  1, -1, -1,  1,  1,  1, -1, -1,  1],\n",
       "       [ 1, -1,  1,  1, -1,  1, -1,  1,  1,  1],\n",
       "       [-1,  1, -1, -1,  1,  1,  1, -1,  1,  1],\n",
       "       [ 1,  1,  1,  1,  1,  1, -1, -1,  1,  1]])"
      ]
     },
     "execution_count": 5,
     "metadata": {},
     "output_type": "execute_result"
    }
   ],
   "source": [
    "### Generate a 20 x 20 grid of 1s and -1s\n",
    "\n",
    "random_spin_field(10,10)"
   ]
  },
  {
   "cell_type": "code",
   "execution_count": 6,
   "metadata": {
    "collapsed": true
   },
   "outputs": [],
   "source": [
    "### Create function to display array field\n",
    "\n",
    "# Image.fromarray() -> creates image from array\n",
    "# np.unit8(field +1) * 0.5 * 255 -> converts 1s and -1s \n",
    "# unit8 -> unsigned integer data type and varies from 0 to 255\n",
    "\n",
    "def display_spin_field(field):\n",
    "    return Image.fromarray(np.uint8((field + 1) * 0.5 * 255))\n"
   ]
  },
  {
   "cell_type": "code",
   "execution_count": 7,
   "metadata": {},
   "outputs": [
    {
     "data": {
      "image/png": "[encoded data removed]",
      "text/plain": [
       "<PIL.Image.Image image mode=L size=200x200 at 0x111A55FD0>"
      ]
     },
     "execution_count": 7,
     "metadata": {},
     "output_type": "execute_result"
    }
   ],
   "source": [
    "### Display the array field\n",
    "\n",
    "display_spin_field(random_spin_field(200,200))"
   ]
  },
  {
   "cell_type": "markdown",
   "metadata": {},
   "source": [
    "### Part 2: Create the ising model"
   ]
  },
  {
   "cell_type": "code",
   "execution_count": 8,
   "metadata": {
    "collapsed": true
   },
   "outputs": [],
   "source": [
    "### Create function to generate ising model\n",
    "\n",
    "# This function allows us to update inplace\n",
    "# beta -> refers to the temperature\n",
    "\n",
    "def ising_step(field, beta=0.4):\n",
    "    N, M = field.shape\n",
    "    # Create offset to remove gradient look from left to right and top down\n",
    "    for n_offset in range(2):\n",
    "        for m_offset in range(2):\n",
    "            for n in range(n_offset, N, 2):\n",
    "                for m in range(m_offset, M, 2):\n",
    "                    _ising_update(field, n, m, beta)\n",
    "    return field\n",
    "\n",
    "# This function allows us to calculate the energies\n",
    "# \n",
    "def _ising_update(field, n, m, beta):\n",
    "    total = 0\n",
    "    N, M = field.shape\n",
    "    for i in range(n-1, n+2):\n",
    "        for j in range(m-1, m+2):\n",
    "            if i == n and j == m:\n",
    "                continue\n",
    "            total += field[i % N,j % M]\n",
    "    dE = 2 * field[n,m] * total\n",
    "    if dE <=0:\n",
    "        field[n,m] *= -1\n",
    "    elif np.exp(-dE * beta) > np.random.rand():\n",
    "        field[n,m] *= -1\n",
    "            "
   ]
  },
  {
   "cell_type": "code",
   "execution_count": 9,
   "metadata": {},
   "outputs": [
    {
     "data": {
      "image/png": "[encoded data removed]",
      "text/plain": [
       "<PIL.Image.Image image mode=L size=200x200 at 0x111B5D908>"
      ]
     },
     "execution_count": 9,
     "metadata": {},
     "output_type": "execute_result"
    }
   ],
   "source": [
    "### Display the ising step\n",
    "\n",
    "display_spin_field(ising_step(random_spin_field(200,200)))"
   ]
  },
  {
   "cell_type": "markdown",
   "metadata": {},
   "source": [
    "### Part 3: Animate to display more than one image at a time"
   ]
  },
  {
   "cell_type": "code",
   "execution_count": 10,
   "metadata": {
    "collapsed": true
   },
   "outputs": [],
   "source": [
    "#### Using Ipywidgets - create javascript widgets"
   ]
  },
  {
   "cell_type": "code",
   "execution_count": 11,
   "metadata": {
    "collapsed": true
   },
   "outputs": [],
   "source": [
    "### Create function to display sequenced images\n",
    "\n",
    "def display_ising_sequence(images):\n",
    "    def _show(frame=(0, len(images)-1)):\n",
    "        return display_spin_field(images[frame])\n",
    "    return interact(_show)"
   ]
  },
  {
   "cell_type": "code",
   "execution_count": 12,
   "metadata": {},
   "outputs": [
    {
     "data": {
      "image/png": "[encoded data removed]",
      "text/plain": [
       "<PIL.Image.Image image mode=L size=200x200 at 0x111B66470>"
      ]
     },
     "metadata": {},
     "output_type": "display_data"
    },
    {
     "data": {
      "text/plain": [
       "<function __main__.display_ising_sequence.<locals>._show>"
      ]
     },
     "execution_count": 12,
     "metadata": {},
     "output_type": "execute_result"
    }
   ],
   "source": [
    "### Create image animation\n",
    "\n",
    "images = [random_spin_field(200,200)]\n",
    "for i in range(50):\n",
    "    images.append(ising_step(images[-1].copy()))\n",
    "display_ising_sequence(images)"
   ]
  },
  {
   "cell_type": "code",
   "execution_count": 13,
   "metadata": {
    "collapsed": true
   },
   "outputs": [],
   "source": [
    "### Note -\n",
    "\n",
    "# Had to use source code updates for my version of jupyter notebook\n",
    "\n",
    "## Update via terminal\n",
    "# pip install ipywidgets\n",
    "# jupyter nbextension enable --py --sys-prefix widgetsnbextension  # can be skipped for notebook version 5.3 and above\n",
    "\n",
    "# this allowed the widget to display\n"
   ]
  },
  {
   "cell_type": "markdown",
   "metadata": {
    "collapsed": true
   },
   "source": [
    "## Section II - Optimization with Cython"
   ]
  },
  {
   "cell_type": "markdown",
   "metadata": {},
   "source": [
    "#### Agenda\n",
    "\n",
    "* Review ways to improve efficiency of the nested loops to create the image\n",
    "\n",
    "###### Docs: http://cython.org/\n",
    "###### Install: https://pypi.org/project/Cython/"
   ]
  },
  {
   "cell_type": "code",
   "execution_count": 14,
   "metadata": {
    "collapsed": true
   },
   "outputs": [],
   "source": [
    "### Step 1 - Load extension for Cython within the notebook\n",
    "\n",
    "%load_ext Cython"
   ]
  },
  {
   "cell_type": "code",
   "execution_count": 15,
   "metadata": {
    "collapsed": true
   },
   "outputs": [],
   "source": [
    "### Step 2 - Paste above function with multiple loops to improve speed\n",
    "\n",
    "# Use this to attempt to compile code below down to C\n",
    "# (Side Tip) - The notebook doesn't like comments above %% elements\n",
    "# (Side Tip) - on mac had to install Xcode for gcc (GNU Compiler Collection) -"
   ]
  },
  {
   "cell_type": "code",
   "execution_count": 29,
   "metadata": {},
   "outputs": [
    {
     "ename": "ModuleNotFoundError",
     "evalue": "No module named 'libc'",
     "output_type": "error",
     "traceback": [
      "\u001b[0;31m---------------------------------------------------------------------------\u001b[0m",
      "\u001b[0;31mModuleNotFoundError\u001b[0m                       Traceback (most recent call last)",
      "\u001b[0;32m<ipython-input-29-6305e79eef22>\u001b[0m in \u001b[0;36m<module>\u001b[0;34m()\u001b[0m\n\u001b[0;32m----> 1\u001b[0;31m \u001b[0mget_ipython\u001b[0m\u001b[0;34m(\u001b[0m\u001b[0;34m)\u001b[0m\u001b[0;34m.\u001b[0m\u001b[0mrun_cell_magic\u001b[0m\u001b[0;34m(\u001b[0m\u001b[0;34m'cython'\u001b[0m\u001b[0;34m,\u001b[0m \u001b[0;34m'-a'\u001b[0m\u001b[0;34m,\u001b[0m \u001b[0;34m'import numpy as np\\ncimport numpy as np\\n\\n# Import Raw \\'c\\' versions of functions\\nfrom libc.math import exp\\n\\nfrom libc.stdlib import rand\\ncdef extern from \"limits.h\":\\n    int RAND_MAX\\n\\ndef cy_ising_step(np.int64_t[:,:] field, float beta=0.4):\\n    # Define the variable type to speed up process\\n    cdef int N = field.shape[0]\\n    cdef int M = field.shape[1]\\n    cdef int n_offset, m_offset, n , m\\n    # Create offset to remove gradient look from left to right and top down\\n    for n_offset in range(2):\\n        for m_offset in range(2):\\n            for n in range(n_offset, N, 2):\\n                for m in range(m_offset, M, 2):\\n                    _cy_ising_update(field, n, m, beta)\\n    return field\\n\\n# This function allows us to calculate the energies\\n# \\ncdef _cy_ising_update(np.int64_t[:,:]field, int n, int m, float beta):\\n    # Define the variable type to speed up process\\n    cdef int total = 0\\n    cdef int N = field.shape[0]\\n    cdef int M = field.shape[1]\\n    cdef int i, j\\n    for i in range(n-1, n+2):\\n        for j in range(m-1, m+2):\\n            if i == n and j == m:\\n                continue\\n            total += field[i % N,j % M]\\n    cdef float dE = 2 * field[n,m] * total\\n    if dE <=0:\\n        field[n,m] *= -1\\n    elif exp(-dE * beta) > rand() / RAND_MAX:\\n        field[n,m] *= -1'\u001b[0m\u001b[0;34m)\u001b[0m\u001b[0;34m\u001b[0m\u001b[0m\n\u001b[0m",
      "\u001b[0;32m~/anaconda/envs/py36/lib/python3.6/site-packages/IPython/core/interactiveshell.py\u001b[0m in \u001b[0;36mrun_cell_magic\u001b[0;34m(self, magic_name, line, cell)\u001b[0m\n\u001b[1;32m   2101\u001b[0m             \u001b[0mmagic_arg_s\u001b[0m \u001b[0;34m=\u001b[0m \u001b[0mself\u001b[0m\u001b[0;34m.\u001b[0m\u001b[0mvar_expand\u001b[0m\u001b[0;34m(\u001b[0m\u001b[0mline\u001b[0m\u001b[0;34m,\u001b[0m \u001b[0mstack_depth\u001b[0m\u001b[0;34m)\u001b[0m\u001b[0;34m\u001b[0m\u001b[0m\n\u001b[1;32m   2102\u001b[0m             \u001b[0;32mwith\u001b[0m \u001b[0mself\u001b[0m\u001b[0;34m.\u001b[0m\u001b[0mbuiltin_trap\u001b[0m\u001b[0;34m:\u001b[0m\u001b[0;34m\u001b[0m\u001b[0m\n\u001b[0;32m-> 2103\u001b[0;31m                 \u001b[0mresult\u001b[0m \u001b[0;34m=\u001b[0m \u001b[0mfn\u001b[0m\u001b[0;34m(\u001b[0m\u001b[0mmagic_arg_s\u001b[0m\u001b[0;34m,\u001b[0m \u001b[0mcell\u001b[0m\u001b[0;34m)\u001b[0m\u001b[0;34m\u001b[0m\u001b[0m\n\u001b[0m\u001b[1;32m   2104\u001b[0m             \u001b[0;32mreturn\u001b[0m \u001b[0mresult\u001b[0m\u001b[0;34m\u001b[0m\u001b[0m\n\u001b[1;32m   2105\u001b[0m \u001b[0;34m\u001b[0m\u001b[0m\n",
      "\u001b[0;32m<decorator-gen-127>\u001b[0m in \u001b[0;36mcython\u001b[0;34m(self, line, cell)\u001b[0m\n",
      "\u001b[0;32m~/anaconda/envs/py36/lib/python3.6/site-packages/IPython/core/magic.py\u001b[0m in \u001b[0;36m<lambda>\u001b[0;34m(f, *a, **k)\u001b[0m\n\u001b[1;32m    185\u001b[0m     \u001b[0;31m# but it's overkill for just that one bit of state.\u001b[0m\u001b[0;34m\u001b[0m\u001b[0;34m\u001b[0m\u001b[0m\n\u001b[1;32m    186\u001b[0m     \u001b[0;32mdef\u001b[0m \u001b[0mmagic_deco\u001b[0m\u001b[0;34m(\u001b[0m\u001b[0marg\u001b[0m\u001b[0;34m)\u001b[0m\u001b[0;34m:\u001b[0m\u001b[0;34m\u001b[0m\u001b[0m\n\u001b[0;32m--> 187\u001b[0;31m         \u001b[0mcall\u001b[0m \u001b[0;34m=\u001b[0m \u001b[0;32mlambda\u001b[0m \u001b[0mf\u001b[0m\u001b[0;34m,\u001b[0m \u001b[0;34m*\u001b[0m\u001b[0ma\u001b[0m\u001b[0;34m,\u001b[0m \u001b[0;34m**\u001b[0m\u001b[0mk\u001b[0m\u001b[0;34m:\u001b[0m \u001b[0mf\u001b[0m\u001b[0;34m(\u001b[0m\u001b[0;34m*\u001b[0m\u001b[0ma\u001b[0m\u001b[0;34m,\u001b[0m \u001b[0;34m**\u001b[0m\u001b[0mk\u001b[0m\u001b[0;34m)\u001b[0m\u001b[0;34m\u001b[0m\u001b[0m\n\u001b[0m\u001b[1;32m    188\u001b[0m \u001b[0;34m\u001b[0m\u001b[0m\n\u001b[1;32m    189\u001b[0m         \u001b[0;32mif\u001b[0m \u001b[0mcallable\u001b[0m\u001b[0;34m(\u001b[0m\u001b[0marg\u001b[0m\u001b[0;34m)\u001b[0m\u001b[0;34m:\u001b[0m\u001b[0;34m\u001b[0m\u001b[0m\n",
      "\u001b[0;32m~/anaconda/envs/py36/lib/python3.6/site-packages/Cython/Build/IpythonMagic.py\u001b[0m in \u001b[0;36mcython\u001b[0;34m(self, line, cell)\u001b[0m\n\u001b[1;32m    329\u001b[0m                               quiet=args.quiet)\n\u001b[1;32m    330\u001b[0m \u001b[0;34m\u001b[0m\u001b[0m\n\u001b[0;32m--> 331\u001b[0;31m         \u001b[0mmodule\u001b[0m \u001b[0;34m=\u001b[0m \u001b[0mimp\u001b[0m\u001b[0;34m.\u001b[0m\u001b[0mload_dynamic\u001b[0m\u001b[0;34m(\u001b[0m\u001b[0mmodule_name\u001b[0m\u001b[0;34m,\u001b[0m \u001b[0mmodule_path\u001b[0m\u001b[0;34m)\u001b[0m\u001b[0;34m\u001b[0m\u001b[0m\n\u001b[0m\u001b[1;32m    332\u001b[0m         \u001b[0mself\u001b[0m\u001b[0;34m.\u001b[0m\u001b[0m_import_all\u001b[0m\u001b[0;34m(\u001b[0m\u001b[0mmodule\u001b[0m\u001b[0;34m)\u001b[0m\u001b[0;34m\u001b[0m\u001b[0m\n\u001b[1;32m    333\u001b[0m \u001b[0;34m\u001b[0m\u001b[0m\n",
      "\u001b[0;32m~/anaconda/envs/py36/lib/python3.6/imp.py\u001b[0m in \u001b[0;36mload_dynamic\u001b[0;34m(name, path, file)\u001b[0m\n\u001b[1;32m    340\u001b[0m         spec = importlib.machinery.ModuleSpec(\n\u001b[1;32m    341\u001b[0m             name=name, loader=loader, origin=path)\n\u001b[0;32m--> 342\u001b[0;31m         \u001b[0;32mreturn\u001b[0m \u001b[0m_load\u001b[0m\u001b[0;34m(\u001b[0m\u001b[0mspec\u001b[0m\u001b[0;34m)\u001b[0m\u001b[0;34m\u001b[0m\u001b[0m\n\u001b[0m\u001b[1;32m    343\u001b[0m \u001b[0;34m\u001b[0m\u001b[0m\n\u001b[1;32m    344\u001b[0m \u001b[0;32melse\u001b[0m\u001b[0;34m:\u001b[0m\u001b[0;34m\u001b[0m\u001b[0m\n",
      "\u001b[0;32m~/anaconda/envs/py36/lib/python3.6/importlib/_bootstrap.py\u001b[0m in \u001b[0;36m_load\u001b[0;34m(spec)\u001b[0m\n",
      "\u001b[0;32m~/anaconda/envs/py36/lib/python3.6/importlib/_bootstrap.py\u001b[0m in \u001b[0;36m_load_unlocked\u001b[0;34m(spec)\u001b[0m\n",
      "\u001b[0;32m~/anaconda/envs/py36/lib/python3.6/importlib/_bootstrap.py\u001b[0m in \u001b[0;36mmodule_from_spec\u001b[0;34m(spec)\u001b[0m\n",
      "\u001b[0;32m~/anaconda/envs/py36/lib/python3.6/importlib/_bootstrap_external.py\u001b[0m in \u001b[0;36mcreate_module\u001b[0;34m(self, spec)\u001b[0m\n",
      "\u001b[0;32m~/anaconda/envs/py36/lib/python3.6/importlib/_bootstrap.py\u001b[0m in \u001b[0;36m_call_with_frames_removed\u001b[0;34m(f, *args, **kwds)\u001b[0m\n",
      "\u001b[0;32m_cython_magic_7f97f47ce839807592e17a8b02db024d.pyx\u001b[0m in \u001b[0;36minit _cython_magic_7f97f47ce839807592e17a8b02db024d\u001b[0;34m()\u001b[0m\n",
      "\u001b[0;31mModuleNotFoundError\u001b[0m: No module named 'libc'"
     ]
    }
   ],
   "source": [
    "%%cython -a\n",
    "import numpy as np\n",
    "cimport numpy as np\n",
    "\n",
    "# Import Raw 'c' versions of functions\n",
    "from libc.math import exp\n",
    "\n",
    "from libc.stdlib import rand\n",
    "cdef extern from \"limits.h\":\n",
    "    int RAND_MAX\n",
    "\n",
    "def cy_ising_step(np.int64_t[:,:] field, float beta=0.4):\n",
    "    # Define the variable type to speed up process\n",
    "    cdef int N = field.shape[0]\n",
    "    cdef int M = field.shape[1]\n",
    "    cdef int n_offset, m_offset, n , m\n",
    "    # Create offset to remove gradient look from left to right and top down\n",
    "    for n_offset in range(2):\n",
    "        for m_offset in range(2):\n",
    "            for n in range(n_offset, N, 2):\n",
    "                for m in range(m_offset, M, 2):\n",
    "                    _cy_ising_update(field, n, m, beta)\n",
    "    return field\n",
    "\n",
    "# This function allows us to calculate the energies\n",
    "# \n",
    "cdef _cy_ising_update(np.int64_t[:,:]field, int n, int m, float beta):\n",
    "    # Define the variable type to speed up process\n",
    "    cdef int total = 0\n",
    "    cdef int N = field.shape[0]\n",
    "    cdef int M = field.shape[1]\n",
    "    cdef int i, j\n",
    "    for i in range(n-1, n+2):\n",
    "        for j in range(m-1, m+2):\n",
    "            if i == n and j == m:\n",
    "                continue\n",
    "            total += field[i % N,j % M]\n",
    "    cdef float dE = 2 * field[n,m] * total\n",
    "    if dE <=0:\n",
    "        field[n,m] *= -1\n",
    "    elif exp(-dE * beta) > rand() / RAND_MAX:\n",
    "        field[n,m] *= -1"
   ]
  },
  {
   "cell_type": "code",
   "execution_count": 27,
   "metadata": {},
   "outputs": [
    {
     "name": "stdout",
     "output_type": "stream",
     "text": [
      "457 ms ± 12.1 ms per loop (mean ± std. dev. of 7 runs, 1 loop each)\n",
      "84.9 ms ± 623 µs per loop (mean ± std. dev. of 7 runs, 10 loops each)\n"
     ]
    }
   ],
   "source": [
    "### Step 3 - Use magic function to time the process with\n",
    "# using regular python and then cython\n",
    "\n",
    "field = random_spin_field(200,200)\n",
    "\n",
    "%timeit ising_step(field)\n",
    "%timeit cy_ising_step(field)"
   ]
  },
  {
   "cell_type": "code",
   "execution_count": null,
   "metadata": {
    "collapsed": true
   },
   "outputs": [],
   "source": []
  },
  {
   "cell_type": "code",
   "execution_count": null,
   "metadata": {
    "collapsed": true
   },
   "outputs": [],
   "source": []
  },
  {
   "cell_type": "code",
   "execution_count": null,
   "metadata": {
    "collapsed": true
   },
   "outputs": [],
   "source": []
  },
  {
   "cell_type": "code",
   "execution_count": null,
   "metadata": {
    "collapsed": true
   },
   "outputs": [],
   "source": []
  },
  {
   "cell_type": "code",
   "execution_count": null,
   "metadata": {
    "collapsed": true
   },
   "outputs": [],
   "source": []
  },
  {
   "cell_type": "code",
   "execution_count": null,
   "metadata": {
    "collapsed": true
   },
   "outputs": [],
   "source": []
  }
 ],
 "metadata": {
  "kernelspec": {
   "display_name": "Python 3",
   "language": "python",
   "name": "python3"
  },
  "language_info": {
   "codemirror_mode": {
    "name": "ipython",
    "version": 3
   },
   "file_extension": ".py",
   "mimetype": "text/x-python",
   "name": "python",
   "nbconvert_exporter": "python",
   "pygments_lexer": "ipython3",
   "version": "3.6.2"
  }
 },
 "nbformat": 4,
 "nbformat_minor": 2
}
